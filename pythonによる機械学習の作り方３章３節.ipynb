{
  "nbformat": 4,
  "nbformat_minor": 0,
  "metadata": {
    "colab": {
      "name": "pythonによる機械学習の作り方３章３節.ipynb",
      "provenance": [],
      "authorship_tag": "ABX9TyMlIwXVyrjyNQvCyjhSLbKp"
    },
    "kernelspec": {
      "name": "python3",
      "display_name": "Python 3"
    },
    "language_info": {
      "name": "python"
    }
  },
  "cells": [
    {
      "cell_type": "code",
      "metadata": {
        "id": "JHOnfM18xXLJ"
      },
      "source": [
        "import cv2\n",
        "import matplotlib.pyplot as plt\n",
        "\n"
      ],
      "execution_count": 308,
      "outputs": []
    },
    {
      "cell_type": "code",
      "metadata": {
        "colab": {
          "base_uri": "https://localhost:8080/"
        },
        "id": "D5UdqRpfxXNx",
        "outputId": "6e69a572-2b6e-41b2-a16d-29437059eaf1"
      },
      "source": [
        "from sklearn.model_selection import train_test_split\n",
        "from sklearn import datasets, svm, metrics\n",
        "from sklearn.metrics import accuracy_score\n",
        "\n",
        "# データを読み込む --- (*1)\n",
        "digits = datasets.load_digits()\n",
        "x = digits.images\n",
        "y = digits.target\n",
        "x = x.reshape((-1, 64)) # 二次元配列を一次元配列に変換 --- (*2)\n",
        "# データを学習用とテスト用に分割する --- (*3)\n",
        "x_train, x_test, y_train, y_test = \\\n",
        "    train_test_split(x, y, test_size=0.25)\n",
        "\n",
        "# データを学習 --- (*4)\n",
        "clf = svm.SVC()\n",
        "clf.fit(x_train, y_train)\n",
        "\n",
        "# 予測して精度を確認する --- (*5)\n",
        "y_pred = clf.predict(x_test)\n",
        "print(accuracy_score(y_test, y_pred))"
      ],
      "execution_count": 309,
      "outputs": [
        {
          "output_type": "stream",
          "text": [
            "0.9933333333333333\n"
          ],
          "name": "stdout"
        }
      ]
    },
    {
      "cell_type": "code",
      "metadata": {
        "colab": {
          "base_uri": "https://localhost:8080/",
          "height": 265
        },
        "id": "0ziQXShzLS1b",
        "outputId": "a6fb187e-8bea-4ad2-a404-9a7a638aa890"
      },
      "source": [
        "import cv2\n",
        "import matplotlib.pyplot as plt\n",
        "from sklearn import datasets\n",
        "\n",
        "digits = datasets.load_digits()\n",
        "plt.imshow(digits.images[0], cmap=\"gray\")\n",
        "plt.show()"
      ],
      "execution_count": 310,
      "outputs": [
        {
          "output_type": "display_data",
          "data": {
            "image/png": "[encoded data removed]",
            "text/plain": [
              "<Figure size 432x288 with 1 Axes>"
            ]
          },
          "metadata": {
            "tags": [],
            "needs_background": "light"
          }
        }
      ]
    },
    {
      "cell_type": "code",
      "metadata": {
        "colab": {
          "base_uri": "https://localhost:8080/",
          "height": 258
        },
        "id": "C9DRRaSYLUMH",
        "outputId": "f7bccab6-c727-46b8-f2c4-cb852bbc812b"
      },
      "source": [
        "import cv2\n",
        "import matplotlib.pyplot as plt\n",
        "\n",
        "from sklearn import datasets\n",
        "digits = datasets.load_digits()\n",
        "\n",
        "for i in range(15):\n",
        "    plt.subplot(3, 5, i+1)\n",
        "    plt.axis(\"off\")\n",
        "    plt.title(str(digits.target[i]))\n",
        "    plt.imshow(digits.images[i], cmap=\"gray\")\n",
        "\n",
        "plt.show()"
      ],
      "execution_count": 311,
      "outputs": [
        {
          "output_type": "display_data",
          "data": {
            "image/png": "[encoded data removed]",
            "text/plain": [
              "<Figure size 432x288 with 15 Axes>"
            ]
          },
          "metadata": {
            "tags": [],
            "needs_background": "light"
          }
        }
      ]
    },
    {
      "cell_type": "code",
      "metadata": {
        "colab": {
          "base_uri": "https://localhost:8080/"
        },
        "id": "0RQq0pdpLWzI",
        "outputId": "4696ecc9-2a1e-4c24-e2a0-f476067104c0"
      },
      "source": [
        "from sklearn.model_selection import train_test_split\n",
        "from sklearn import datasets, svm, metrics\n",
        "from sklearn.metrics import accuracy_score\n",
        "\n",
        "# データを読み込む --- (*1)\n",
        "digits = datasets.load_digits()\n",
        "x = digits.images\n",
        "y = digits.target\n",
        "x = x.reshape((-1, 64)) # 二次元配列を一次元配列に変換 --- (*2)\n",
        "# データを学習用とテスト用に分割する --- (*3)\n",
        "x_train, x_test, y_train, y_test = \\\n",
        "    train_test_split(x, y, test_size=0.25)\n",
        "\n",
        "# データを学習 --- (*4)\n",
        "clf = svm.SVC()\n",
        "clf.fit(x_train, y_train)\n",
        "\n",
        "# 予測して精度を確認する --- (*5)\n",
        "y_pred = clf.predict(x_test)\n",
        "print(accuracy_score(y_test, y_pred))"
      ],
      "execution_count": 312,
      "outputs": [
        {
          "output_type": "stream",
          "text": [
            "0.9977777777777778\n"
          ],
          "name": "stdout"
        }
      ]
    },
    {
      "cell_type": "code",
      "metadata": {
        "id": "mRvbVB5_xXQL"
      },
      "source": [
        "import pickle\n",
        "with open(\"digits.pkl\", \"wb\") as fp:\n",
        "    pickle.dump(clf, fp)"
      ],
      "execution_count": 313,
      "outputs": []
    },
    {
      "cell_type": "code",
      "metadata": {
        "id": "Bzq1w9zjwqgU"
      },
      "source": [
        "import cv2\n",
        "import pickle\n",
        "\n",
        "def predict_digit(filename):\n",
        "    # 学習済みデータを読み込む\n",
        "    with open(\"digits.pkl\", \"rb\") as fp:\n",
        "        clf = pickle.load(fp)\n",
        "    # 自分で用意した手書きの画像ファイルを読み込む\n",
        "    my_img = cv2.imread(filename)\n",
        "    # 画像データを学習済みデータに合わせる\n",
        "    my_img = cv2.cvtColor(my_img, cv2.COLOR_BGR2GRAY)\n",
        "    my_img = cv2.resize(my_img, (8, 8))\n",
        "    my_img = 15 - my_img // 16 # 白黒反転する\n",
        "    # 二次元を一次元に変換\n",
        "    my_img = my_img.reshape((-1, 64))\n",
        "    # データ予測する\n",
        "    res = clf.predict(my_img)\n",
        "    return res[0]"
      ],
      "execution_count": 314,
      "outputs": []
    },
    {
      "cell_type": "code",
      "metadata": {
        "colab": {
          "base_uri": "https://localhost:8080/"
        },
        "id": "eTWg2qKpxLRD",
        "outputId": "713d65b5-e1ef-4d32-fa17-ec9a6f687ee0"
      },
      "source": [
        "# 画像ファイルを指定して実行\n",
        "n = predict_digit(\"1.jpeg\")\n",
        "print(\"1. = \" + str(n))\n",
        "n = predict_digit(\"2.jpeg\")\n",
        "print(\"2. = \" + str(n))\n",
        "n = predict_digit(\"9.jpeg\")\n",
        "print(\"9. = \" + str(n))\n"
      ],
      "execution_count": 315,
      "outputs": [
        {
          "output_type": "stream",
          "text": [
            "1. = 4\n",
            "2. = 4\n",
            "9. = 4\n"
          ],
          "name": "stdout"
        }
      ]
    },
    {
      "cell_type": "code",
      "metadata": {
        "colab": {
          "base_uri": "https://localhost:8080/",
          "height": 269
        },
        "id": "XK2kaUvXyHv8",
        "outputId": "8d2e7b3c-57af-4bf2-a54f-5b36314300b3"
      },
      "source": [
        "  # 学習済みデータを読み込む\n",
        "  with open(\"digits.pkl\", \"rb\") as fp:\n",
        "      clf = pickle.load(fp)\n",
        "  # 自分で用意した手書きの画像ファイルを読み込む\n",
        "  my_img = cv2.imread('1.jpeg')\n",
        "  plt.imshow(my_img, cmap=\"gray\")\n",
        "  plt.show()\n"
      ],
      "execution_count": 316,
      "outputs": [
        {
          "output_type": "display_data",
          "data": {
            "image/png": "[encoded data removed]",
            "text/plain": [
              "<Figure size 432x288 with 1 Axes>"
            ]
          },
          "metadata": {
            "tags": [],
            "needs_background": "light"
          }
        }
      ]
    },
    {
      "cell_type": "code",
      "metadata": {
        "colab": {
          "base_uri": "https://localhost:8080/",
          "height": 265
        },
        "id": "kEFmQ3uxzn5X",
        "outputId": "69b6fbf1-c277-406b-dd7c-7fa984bd2255"
      },
      "source": [
        "my_img = cv2.imread('1.jpeg')\n",
        "#my_img = cv2.cvtColor(my_img, cv2.COLOR_BGR2GRAY)\n",
        "my_img = cv2.resize(my_img, (8, 8))\n",
        "\n",
        "plt.imshow(my_img, cmap=\"gray\")\n",
        "plt.show()\n"
      ],
      "execution_count": 317,
      "outputs": [
        {
          "output_type": "display_data",
          "data": {
            "image/png": "[encoded data removed]",
            "text/plain": [
              "<Figure size 432x288 with 1 Axes>"
            ]
          },
          "metadata": {
            "tags": [],
            "needs_background": "light"
          }
        }
      ]
    },
    {
      "cell_type": "code",
      "metadata": {
        "colab": {
          "base_uri": "https://localhost:8080/",
          "height": 221
        },
        "id": "k9BznktI5Jpa",
        "outputId": "83ff2866-b914-45ba-d89e-c1f7047b8951"
      },
      "source": [
        "# 画像を読み込んでリサイズ --- (*1)\n",
        "img = cv2.imread(\"1.jpeg\")\n",
        "\n",
        "# 色空間を二値化 --- (*2)\n",
        "gray = cv2.cvtColor(img, cv2.COLOR_BGR2GRAY)\n",
        "gray = cv2.GaussianBlur(gray, (7, 7), 0) \n",
        "im2 = cv2.threshold(gray, 140, 240, cv2.THRESH_BINARY_INV)[1]\n",
        "\n",
        "\n",
        "\n",
        "plt.subplot(1, 2, 1)\n",
        "plt.imshow(im2, cmap=\"gray\")"
      ],
      "execution_count": 318,
      "outputs": [
        {
          "output_type": "execute_result",
          "data": {
            "text/plain": [
              "<matplotlib.image.AxesImage at 0x7f5423ccb850>"
            ]
          },
          "metadata": {
            "tags": []
          },
          "execution_count": 318
        },
        {
          "output_type": "display_data",
          "data": {
            "image/png": "[encoded data removed]",
            "text/plain": [
              "<Figure size 432x288 with 1 Axes>"
            ]
          },
          "metadata": {
            "tags": [],
            "needs_background": "light"
          }
        }
      ]
    },
    {
      "cell_type": "code",
      "metadata": {
        "id": "JsKpS29D7Hd6"
      },
      "source": [
        "kernel = np.ones((5,5),np.uint8)\n",
        "dilate_im = cv2.dilate(im2,kernel,iterations = 30)\n"
      ],
      "execution_count": 319,
      "outputs": []
    },
    {
      "cell_type": "code",
      "metadata": {
        "colab": {
          "base_uri": "https://localhost:8080/",
          "height": 269
        },
        "id": "_5JxnlD67Lj4",
        "outputId": "83f19bd1-6521-4363-d574-71b1ff0a6b3e"
      },
      "source": [
        "plt.imshow(dilate_im, cmap=\"gray\")\n",
        "plt.show()"
      ],
      "execution_count": 320,
      "outputs": [
        {
          "output_type": "display_data",
          "data": {
            "image/png": "[encoded data removed]",
            "text/plain": [
              "<Figure size 432x288 with 1 Axes>"
            ]
          },
          "metadata": {
            "tags": [],
            "needs_background": "light"
          }
        }
      ]
    },
    {
      "cell_type": "code",
      "metadata": {
        "colab": {
          "base_uri": "https://localhost:8080/",
          "height": 265
        },
        "id": "YylIrY1H7N6C",
        "outputId": "ea743013-1d3b-4a2e-f25c-c671b46f47ed"
      },
      "source": [
        "# 画像データを学習済みデータに合わせる\n",
        "my_img = cv2.resize(im3, (8, 8))\n",
        "my_img = cv2.GaussianBlur(my_img, (3, 3), 0) \n",
        "my_img = my_img.reshape((8, 8))\n",
        "plt.imshow(my_img, cmap=\"gray\")\n",
        "plt.show()\n"
      ],
      "execution_count": 323,
      "outputs": [
        {
          "output_type": "display_data",
          "data": {
            "image/png": "[encoded data removed]",
            "text/plain": [
              "<Figure size 432x288 with 1 Axes>"
            ]
          },
          "metadata": {
            "tags": [],
            "needs_background": "light"
          }
        }
      ]
    },
    {
      "cell_type": "code",
      "metadata": {
        "colab": {
          "base_uri": "https://localhost:8080/"
        },
        "id": "cpHMsF6RKMiz",
        "outputId": "d966f8f4-40c9-4541-c88f-ece7abeab527"
      },
      "source": [
        "  # 二次元を一次元に変換\n",
        "  my_img = my_img.reshape((-1, 64))\n",
        "  # データ予測する\n",
        "  res = clf.predict(my_img)\n",
        "  res"
      ],
      "execution_count": 324,
      "outputs": [
        {
          "output_type": "execute_result",
          "data": {
            "text/plain": [
              "array([1])"
            ]
          },
          "metadata": {
            "tags": []
          },
          "execution_count": 324
        }
      ]
    },
    {
      "cell_type": "code",
      "metadata": {
        "id": "-MRhyl0GKQzq"
      },
      "source": [
        "\n",
        "\n",
        "#  img = cv2.threshold(gray, 140, 255, cv2.THRESH_BINARY_INV)[1]"
      ],
      "execution_count": 283,
      "outputs": []
    },
    {
      "cell_type": "code",
      "metadata": {
        "colab": {
          "base_uri": "https://localhost:8080/",
          "height": 265
        },
        "id": "27k5kKvZMufo",
        "outputId": "38dc7ce5-5699-4325-bf44-dd135237180a"
      },
      "source": [
        "plt.imshow(my_img, cmap=\"gray\")\n",
        "plt.show()"
      ],
      "execution_count": 284,
      "outputs": [
        {
          "output_type": "display_data",
          "data": {
            "image/png": "[encoded data removed]",
            "text/plain": [
              "<Figure size 432x288 with 1 Axes>"
            ]
          },
          "metadata": {
            "tags": [],
            "needs_background": "light"
          }
        }
      ]
    },
    {
      "cell_type": "code",
      "metadata": {
        "colab": {
          "base_uri": "https://localhost:8080/"
        },
        "id": "grbII5j5NyDg",
        "outputId": "e10c36a9-e762-4799-c51d-3a20805595f2"
      },
      "source": [
        "  my_img = my_img.reshape((-1, 64))\n",
        "  # データ予測する\n",
        "  res = clf.predict(my_img)\n",
        "  res"
      ],
      "execution_count": 285,
      "outputs": [
        {
          "output_type": "execute_result",
          "data": {
            "text/plain": [
              "array([1])"
            ]
          },
          "metadata": {
            "tags": []
          },
          "execution_count": 285
        }
      ]
    },
    {
      "cell_type": "code",
      "metadata": {
        "id": "ss7iW5pIN-3t"
      },
      "source": [
        ""
      ],
      "execution_count": null,
      "outputs": []
    }
  ]
}