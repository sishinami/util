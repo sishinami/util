{
  "nbformat": 4,
  "nbformat_minor": 0,
  "metadata": {
    "colab": {
      "name": "数式.ipynb",
      "provenance": [],
      "collapsed_sections": [],
      "authorship_tag": "ABX9TyMoWNRqsavL40+YzefXrEWS",
      "include_colab_link": true
    },
    "kernelspec": {
      "name": "python3",
      "display_name": "Python 3"
    },
    "language_info": {
      "name": "python"
    }
  },
  "cells": [
    {
      "cell_type": "markdown",
      "metadata": {
        "id": "view-in-github",
        "colab_type": "text"
      },
      "source": [
        "<a href=\"https://colab.research.google.com/github/sishinami/util/blob/master/%E6%95%B0%E5%BC%8F.ipynb\" target=\"_parent\"><img src=\"https://colab.research.google.com/assets/colab-badge.svg\" alt=\"Open In Colab\"/></a>"
      ]
    },
    {
      "cell_type": "code",
      "metadata": {
        "id": "_WU_tIF-RbgK"
      },
      "source": [
        "import numpy as np\n",
        "import matplotlib.pyplot as plt"
      ],
      "execution_count": 1,
      "outputs": []
    },
    {
      "cell_type": "code",
      "metadata": {
        "id": "zUnSzjlqRgws"
      },
      "source": [
        "b = 3\n",
        "x = np.linspace(-1,1)\n",
        "\n",
        "y = b *x"
      ],
      "execution_count": 2,
      "outputs": []
    },
    {
      "cell_type": "code",
      "metadata": {
        "colab": {
          "base_uri": "https://localhost:8080/",
          "height": 279
        },
        "id": "3euH2seBRnNf",
        "outputId": "6e2ad9ca-5717-4819-9285-7dda7e827e05"
      },
      "source": [
        "plt.plot(x,y)\n",
        "plt.xlabel('x',size=10)\n",
        "plt.ylabel('y',size=10)\n",
        "plt.grid()"
      ],
      "execution_count": 3,
      "outputs": [
        {
          "output_type": "display_data",
          "data": {
            "image/png": "[encoded data removed]",
            "text/plain": [
              "<Figure size 432x288 with 1 Axes>"
            ]
          },
          "metadata": {
            "tags": [],
            "needs_background": "light"
          }
        }
      ]
    },
    {
      "cell_type": "code",
      "metadata": {
        "id": "gB4KuXnVRvvY"
      },
      "source": [
        ""
      ],
      "execution_count": null,
      "outputs": []
    },
    {
      "cell_type": "markdown",
      "metadata": {
        "id": "9zQn_CoNR7Ee"
      },
      "source": [
        "数学の世界と異なりコンピューターでは飛び飛びの値しか表現できないので、あくまで近似にしか過ぎない\n",
        "数学の関数とプログラミングの関数は共通点もありますが基本手置きに異なるものです\n"
      ]
    },
    {
      "cell_type": "code",
      "metadata": {
        "id": "ww9lg8jUSGNY"
      },
      "source": [
        "def func(x):\n",
        "  return 3*x+2\n",
        "\n"
      ],
      "execution_count": 4,
      "outputs": []
    },
    {
      "cell_type": "code",
      "metadata": {
        "id": "V-x1L-aCSMln"
      },
      "source": [
        "x=4\n",
        "y=func(x)\n"
      ],
      "execution_count": 5,
      "outputs": []
    },
    {
      "cell_type": "code",
      "metadata": {
        "colab": {
          "base_uri": "https://localhost:8080/"
        },
        "id": "4wsFH5SpSPyl",
        "outputId": "eb5ca90c-9b74-4039-e5c3-6ea7938131ed"
      },
      "source": [
        "y"
      ],
      "execution_count": 6,
      "outputs": [
        {
          "output_type": "execute_result",
          "data": {
            "text/plain": [
              "14"
            ]
          },
          "metadata": {
            "tags": []
          },
          "execution_count": 6
        }
      ]
    },
    {
      "cell_type": "code",
      "metadata": {
        "id": "GTSQbtqySQOD"
      },
      "source": [
        ""
      ],
      "execution_count": null,
      "outputs": []
    },
    {
      "cell_type": "markdown",
      "metadata": {
        "id": "E5vG3_iHSVMo"
      },
      "source": [
        "べき乗\n",
        "`[tex:a\\^n]`\n",
        "と書くと Markdown表現ができるが \n",
        "Jupyterは texが使えないので\n",
        "```\n",
        "$$\n",
        "    % 空白は表示に影響しない。コメントは\"%\"で始める\n",
        "    % 下付き文字は\"_a\"、上付き文字は\"^a\"\n",
        "    % 改行は\"\\\\\"を付ける\n",
        "    y_1 = ax^2 \\\\\n",
        "    % 複数文字を1要素とする際は{...}で囲う\n",
        "    % 空白は\"\\quad\"\n",
        "    y_2 = ax^{10} \\quad y_3 = ax \\\\\n",
        "$$\n",
        "```\n",
        "\n",
        "$２つで囲って書くらしい\n",
        "\n",
        "数式 \n",
        "$$\n",
        "  y = x^a\n",
        "$$\n",
        "をPythonにする\n"
      ]
    },
    {
      "cell_type": "code",
      "metadata": {
        "id": "6ODSKj78SlBm"
      },
      "source": [
        "def func(x):\n",
        "  a = 3\n",
        "  return x**a\n",
        "\n",
        "\n",
        "x = np.linspace(0,2)\n",
        "y = func(x)\n"
      ],
      "execution_count": 9,
      "outputs": []
    },
    {
      "cell_type": "code",
      "metadata": {
        "colab": {
          "base_uri": "https://localhost:8080/",
          "height": 279
        },
        "id": "Gg_h_dydTSVE",
        "outputId": "76b38d2c-a13e-420d-fb79-c84c645401ca"
      },
      "source": [
        "plt.plot(x,y)\n",
        "plt.xlabel('x',size=10)\n",
        "plt.ylabel('y',size=10)\n",
        "plt.grid()"
      ],
      "execution_count": 10,
      "outputs": [
        {
          "output_type": "display_data",
          "data": {
            "image/png": "[encoded data removed]",
            "text/plain": [
              "<Figure size 432x288 with 1 Axes>"
            ]
          },
          "metadata": {
            "tags": [],
            "needs_background": "light"
          }
        }
      ]
    },
    {
      "cell_type": "markdown",
      "metadata": {
        "id": "1x30rmeOTv4M"
      },
      "source": [
        "---\n",
        "平方根\n",
        "\n",
        "$$\n",
        "y = \\sqrt{x}\n",
        "$$"
      ]
    },
    {
      "cell_type": "code",
      "metadata": {
        "id": "4D_DQm38Tg3L"
      },
      "source": [
        "def func(x):\n",
        "  return np.sqrt(x)\n",
        "\n",
        "x = np.linspace(0,2)\n",
        "y = func(x)\n"
      ],
      "execution_count": 12,
      "outputs": []
    },
    {
      "cell_type": "code",
      "metadata": {
        "colab": {
          "base_uri": "https://localhost:8080/",
          "height": 279
        },
        "id": "FTLzaFGFUHaS",
        "outputId": "b275df5d-f4b1-4135-c737-45dcaf2485fa"
      },
      "source": [
        "plt.plot(x,y)\n",
        "plt.xlabel('x',size=10)\n",
        "plt.ylabel('y',size=10)\n",
        "plt.grid()"
      ],
      "execution_count": 13,
      "outputs": [
        {
          "output_type": "display_data",
          "data": {
            "image/png": "[encoded data removed]",
            "text/plain": [
              "<Figure size 432x288 with 1 Axes>"
            ]
          },
          "metadata": {
            "tags": [],
            "needs_background": "light"
          }
        }
      ]
    },
    {
      "cell_type": "code",
      "metadata": {
        "id": "fNWrhnMJUI1p"
      },
      "source": [
        ""
      ],
      "execution_count": null,
      "outputs": []
    }
  ]
}